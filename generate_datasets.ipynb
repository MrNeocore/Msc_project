{
 "cells": [
  {
   "cell_type": "code",
   "execution_count": null,
   "metadata": {
    "collapsed": true
   },
   "outputs": [],
   "source": [
    "ds_name = \"MHK\""
   ]
  },
  {
   "cell_type": "code",
   "execution_count": null,
   "metadata": {
    "collapsed": true
   },
   "outputs": [],
   "source": [
    "stations_to_drop_uk = \\\n",
    "[(-51.317, -59.6),(53.5, -19.5),(47.5, -8.5), (54.017,1.1), (53.7,1.133), \n",
    "(59.733,1.667),(58.033,1.400), (57.283,1.650),(61.2, 1.1),(60.6 ,1.0),\n",
    "(59.5, 1.5),(58.3, 0.4),(57.883, 0.033),(57.6, 1.7),(57.2, 1.2),\n",
    "(57.2, 0.5),(54.0, 0.7),(53.833, 2.917),(53.5, 2.2),(53.4, 1.7),\n",
    "(53.0, 2.1),(53.0, 1.7),(49.9, -2.9), (60.15, -2.067), (60.117, -2.067)]"
   ]
  },
  {
   "cell_type": "code",
   "execution_count": null,
   "metadata": {
    "collapsed": true
   },
   "outputs": [],
   "source": [
    "def base_dataset():\n",
    "    import Load_forecasting as lf\n",
    "    df = lf.Load_Forecaster()\n",
    "    stations_to_drop = []\n",
    "    weather_ds = [\"METAR_DATA/isd_stations_ny.txt\",[\"METAR_DATA/isd_2001-2018_ny.txt\"]]\n",
    "    if ds_name == 'UK':\n",
    "        df.attach_load(filename=\"/media/jonathan/DATA/HW/Project/DATA/NG_DATA/DATA/\", location=ds_name)\n",
    "        stations_to_drop = stations_to_drop_uk\n",
    "        weather_ds = [\"METAR_DATA/isd_stations_uk.txt\",[\"METAR_DATA/isd_2005-2010_uk.txt\", \"METAR_DATA/isd_2011-2018_uk.txt\"]]\n",
    "    elif ds_name == 'NYC':\n",
    "        df.attach_load(filename=\"/media/jonathan/DATA/HW/Project/DATA/NY_Data/DATA/zones/N.Y.C..csv\", location=ds_name)\n",
    "    elif ds_name == 'MHK':\n",
    "        df.attach_load(filename=\"/media/jonathan/DATA/HW/Project/DATA/NY_Data/DATA/zones/MHK VL.csv\", location=ds_name)\n",
    "        \n",
    "    df._override_model_data_settings(year_range=list(range(2008,2017+1)))\n",
    "    return df, stations_to_drop, weather_ds"
   ]
  },
  {
   "cell_type": "markdown",
   "metadata": {},
   "source": [
    "---\n",
    "## Base dataset"
   ]
  },
  {
   "cell_type": "code",
   "execution_count": null,
   "metadata": {
    "collapsed": true
   },
   "outputs": [],
   "source": [
    "### Location : NG - UK\n",
    "### Year_range : 2008-2017\n",
    "### + ALL DEFAULTS\n",
    "\n",
    "### Load\n",
    "## Preprocessing\n",
    "# Fixes : ['zeros', 'extremes_global', 'derivatives_iterative'] (default)\n",
    "## Historical : {'points':['7d'], 'averages':['1d', '7d']} (default)\n",
    "\n",
    "### Weather : <No>\n",
    "## Weather preprocessing : NA\n",
    "# drop stations : NA\n",
    "# desired_cluster_count : NA\n",
    "# min_cluster_size : NA\n",
    "\n",
    "### ML\n",
    "# Time encoding : cylical (default)\n",
    "# Stdz : RobustScaler (default)"
   ]
  },
  {
   "cell_type": "code",
   "execution_count": null,
   "metadata": {
    "collapsed": false
   },
   "outputs": [],
   "source": [
    "df, _, _ = base_dataset()\n",
    "df.process_data()\n",
    "df.save_data(f'data_{ds_name}_base')"
   ]
  },
  {
   "cell_type": "markdown",
   "metadata": {},
   "source": [
    "---"
   ]
  },
  {
   "cell_type": "markdown",
   "metadata": {},
   "source": [
    "# Base dataset small"
   ]
  },
  {
   "cell_type": "code",
   "execution_count": null,
   "metadata": {
    "collapsed": false
   },
   "outputs": [],
   "source": [
    "df, _, _ = base_dataset()\n",
    "df._override_model_data_settings(train_test=(2,1), year_range=list(range(2008,2010+1)))\n",
    "df.process_data()\n",
    "df.save_data(f'data_{ds_name}_base_small')"
   ]
  },
  {
   "cell_type": "markdown",
   "metadata": {},
   "source": [
    "# Base dataset week forecasting"
   ]
  },
  {
   "cell_type": "code",
   "execution_count": null,
   "metadata": {
    "collapsed": false,
    "scrolled": false
   },
   "outputs": [],
   "source": [
    "df, _, _ = base_dataset()\n",
    "df._override_model_data_settings(forecast_horizon='week')\n",
    "df.process_data()\n",
    "df.save_data(f'data_{ds_name}_week_forecasting')"
   ]
  },
  {
   "cell_type": "markdown",
   "metadata": {},
   "source": [
    "---\n",
    "## No historical load dataset"
   ]
  },
  {
   "cell_type": "code",
   "execution_count": null,
   "metadata": {
    "collapsed": true
   },
   "outputs": [],
   "source": [
    "### Location : NG - UK\n",
    "### Year_range : 2008-2017\n",
    "\n",
    "### Load\n",
    "## Preprocessing\n",
    "# Fixes : ['zeros', 'extremes_global', 'derivatives_iterative'] (default)\n",
    "## Historical : No <---\n",
    "\n",
    "### Weather : <No>\n",
    "## Weather preprocessing : NA\n",
    "# drop stations : NA\n",
    "# desired_cluster_count : NA\n",
    "# min_cluster_size : NA\n",
    "\n",
    "### ML\n",
    "# Time encoding : cylical (default)\n",
    "# Stdz : RobustScaler (default)"
   ]
  },
  {
   "cell_type": "code",
   "execution_count": null,
   "metadata": {
    "collapsed": false
   },
   "outputs": [],
   "source": [
    "df, _, _ = base_dataset()\n",
    "df._override_historical_load_propagation(points=[], averages=[])\n",
    "df.process_data()\n",
    "df.save_data(f'data_{ds_name}_no_weather_no_historical')"
   ]
  },
  {
   "cell_type": "markdown",
   "metadata": {},
   "source": [
    "---"
   ]
  },
  {
   "cell_type": "markdown",
   "metadata": {},
   "source": [
    "# More historical load propagation dataset \n",
    "### Point: '1d' was missing before... Also added '2d'"
   ]
  },
  {
   "cell_type": "code",
   "execution_count": null,
   "metadata": {
    "collapsed": false
   },
   "outputs": [],
   "source": [
    "df, _, _ = base_dataset()\n",
    "df._override_historical_load_propagation(points=['1d','2d','7d'], averages=['1d','2d','7d'])\n",
    "df.process_data()\n",
    "df.save_data(f'data_{ds_name}_no_weather_more_historical')"
   ]
  },
  {
   "cell_type": "markdown",
   "metadata": {},
   "source": [
    "## Base + weather dataset"
   ]
  },
  {
   "cell_type": "code",
   "execution_count": null,
   "metadata": {
    "collapsed": true
   },
   "outputs": [],
   "source": [
    "### Location : NG - UK\n",
    "### Year_range : 2008-2017\n",
    "\n",
    "### Load\n",
    "## Preprocessing\n",
    "# Fixes : ['zeros', 'extremes_global', 'derivatives_iterative'] (default)\n",
    "## Historical : {'points':['7d'], 'averages':['1d', '7d']} (default)\n",
    "\n",
    "### Weather : Yes\n",
    "## Weather preprocessing : All default\n",
    "# Variables : ['W_Spd', 'Air_Temp', 'RHx ']\n",
    "\n",
    "### ML\n",
    "# Time encoding : cylical (default)\n",
    "# Stdz : RobustScaler (default)"
   ]
  },
  {
   "cell_type": "code",
   "execution_count": null,
   "metadata": {
    "collapsed": false
   },
   "outputs": [],
   "source": [
    "df, stations_to_drop, weather_ds = base_dataset()\n",
    "df.attach_weather(filepath_stations=weather_ds[0],\n",
    "                  filespath_data=weather_ds[1],\n",
    "                  variables=['W_Spd', 'Air_Temp', 'RHx '],\n",
    "                  drop_stations=stations_to_drop)\n",
    "df.process_data()\n",
    "df.save_data(f'data_{ds_name}_weather')"
   ]
  },
  {
   "cell_type": "markdown",
   "metadata": {
    "collapsed": true
   },
   "source": [
    "---"
   ]
  },
  {
   "cell_type": "markdown",
   "metadata": {
    "collapsed": true
   },
   "source": [
    "# Categorical time encoding"
   ]
  },
  {
   "cell_type": "code",
   "execution_count": null,
   "metadata": {
    "collapsed": false,
    "scrolled": true
   },
   "outputs": [],
   "source": [
    "df, stations_to_drop, weather_ds = base_dataset()\n",
    "df._override_time_encoding(mode='categorical')\n",
    "df.attach_weather(filepath_stations=weather_ds[0],\n",
    "                  filespath_data=weather_ds[1],\n",
    "                  variables=['W_Spd', 'Air_Temp', 'RHx '],\n",
    "                  drop_stations=stations_to_drop)\n",
    "df.process_data()\n",
    "df.save_data(f'data_{ds_name}_weather_categorical_time')"
   ]
  },
  {
   "cell_type": "markdown",
   "metadata": {
    "collapsed": true
   },
   "source": [
    "---"
   ]
  },
  {
   "cell_type": "markdown",
   "metadata": {},
   "source": [
    "# No \"advanced\" load time series corrections"
   ]
  },
  {
   "cell_type": "markdown",
   "metadata": {},
   "source": [
    "<font size=3>Can't remove 'zeros' corrections, otherwise cannot compute MAPE (inf) <br>\n",
    "More specifically, the problem is that TinyDB cannot store \"inf\" values.</font>"
   ]
  },
  {
   "cell_type": "code",
   "execution_count": null,
   "metadata": {
    "collapsed": false
   },
   "outputs": [],
   "source": [
    "df, stations_to_drop, weather_ds = base_dataset()\n",
    "df._override_historical_load_preprocessing(fixes=['zeros'])\n",
    "df.attach_weather(filepath_stations=weather_ds[0],\n",
    "                  filespath_data=weather_ds[1],\n",
    "                  variables=['W_Spd', 'Air_Temp', 'RHx '],\n",
    "                  drop_stations=stations_to_drop)\n",
    "df.process_data()\n",
    "df.save_data(f'data_{ds_name}_weather_basic_load_corrections')"
   ]
  },
  {
   "cell_type": "markdown",
   "metadata": {},
   "source": [
    "---"
   ]
  },
  {
   "cell_type": "markdown",
   "metadata": {},
   "source": [
    "# Only air temperature"
   ]
  },
  {
   "cell_type": "code",
   "execution_count": null,
   "metadata": {
    "collapsed": false,
    "scrolled": true
   },
   "outputs": [],
   "source": [
    "df, stations_to_drop, weather_ds = base_dataset()\n",
    "df.attach_weather(filepath_stations=weather_ds[0],\n",
    "                  filespath_data=weather_ds[1],\n",
    "                  variables=['Air_Temp'],\n",
    "                  drop_stations=stations_to_drop)\n",
    "df.process_data()\n",
    "df.save_data(f'data_{ds_name}_weather_air_only')"
   ]
  },
  {
   "cell_type": "markdown",
   "metadata": {},
   "source": [
    "---"
   ]
  },
  {
   "cell_type": "markdown",
   "metadata": {},
   "source": [
    "# Only wind"
   ]
  },
  {
   "cell_type": "code",
   "execution_count": null,
   "metadata": {
    "collapsed": false
   },
   "outputs": [],
   "source": [
    "df, stations_to_drop, weather_ds = base_dataset()\n",
    "df.attach_weather(filepath_stations=weather_ds[0],\n",
    "                  filespath_data=weather_ds[1],\n",
    "                  variables=['W_Spd'],\n",
    "                  drop_stations=stations_to_drop)\n",
    "df.process_data()\n",
    "df.save_data(f'data_{ds_name}_weather_wind_only')"
   ]
  },
  {
   "cell_type": "markdown",
   "metadata": {},
   "source": [
    "---"
   ]
  },
  {
   "cell_type": "markdown",
   "metadata": {},
   "source": [
    "# Only humidity"
   ]
  },
  {
   "cell_type": "code",
   "execution_count": null,
   "metadata": {
    "collapsed": false
   },
   "outputs": [],
   "source": [
    "df, stations_to_drop, weather_ds = base_dataset()\n",
    "df.attach_weather(filepath_stations=weather_ds[0],\n",
    "                  filespath_data=weather_ds[1],\n",
    "                  variables=['RHx '],\n",
    "                  drop_stations=stations_to_drop)\n",
    "df.process_data()\n",
    "df.save_data(f'data_{ds_name}_weather_humidity_only')"
   ]
  },
  {
   "cell_type": "markdown",
   "metadata": {},
   "source": [
    "---"
   ]
  },
  {
   "cell_type": "markdown",
   "metadata": {},
   "source": [
    "# Less weather stations"
   ]
  },
  {
   "cell_type": "code",
   "execution_count": null,
   "metadata": {
    "collapsed": false
   },
   "outputs": [],
   "source": [
    "df, stations_to_drop, weather_ds = base_dataset()\n",
    "df.attach_weather(filepath_stations=weather_ds[0],\n",
    "                  filespath_data=weather_ds[1],\n",
    "                  variables=['W_Spd', 'Air_Temp', 'RHx '],\n",
    "                  drop_stations=stations_to_drop)\n",
    "df._override_weather_data_settings(desired_cluster_count=3, min_cluster_size=3)\n",
    "df.process_data()\n",
    "df.save_data(f'data_{ds_name}_weather_less_stations')"
   ]
  },
  {
   "cell_type": "markdown",
   "metadata": {},
   "source": [
    "---"
   ]
  },
  {
   "cell_type": "markdown",
   "metadata": {},
   "source": [
    "# More weather variables\n",
    "#### With UK, cannot go higher than 15"
   ]
  },
  {
   "cell_type": "code",
   "execution_count": null,
   "metadata": {
    "collapsed": false
   },
   "outputs": [],
   "source": [
    "df, stations_to_drop, weather_ds = base_dataset()\n",
    "df.attach_weather(filepath_stations=weather_ds[0],\n",
    "                  filespath_data=weather_ds[1],\n",
    "                  variables=['W_Spd', 'Air_Temp', 'RHx '],\n",
    "                  drop_stations=stations_to_drop)\n",
    "df._override_weather_data_settings(desired_cluster_count=40, min_cluster_size=2)\n",
    "df.process_data()\n",
    "df.save_data(f'data_{ds_name}_weather_more_stations')"
   ]
  },
  {
   "cell_type": "markdown",
   "metadata": {},
   "source": [
    "---\n",
    "\n"
   ]
  }
 ],
 "metadata": {
  "kernelspec": {
   "display_name": "Python 3",
   "language": "python",
   "name": "python3"
  },
  "language_info": {
   "codemirror_mode": {
    "name": "ipython",
    "version": 3
   },
   "file_extension": ".py",
   "mimetype": "text/x-python",
   "name": "python",
   "nbconvert_exporter": "python",
   "pygments_lexer": "ipython3",
   "version": "3.6.3"
  }
 },
 "nbformat": 4,
 "nbformat_minor": 2
}
