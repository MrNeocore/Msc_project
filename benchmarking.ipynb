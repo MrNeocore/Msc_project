{
 "cells": [
  {
   "cell_type": "code",
   "execution_count": null,
   "metadata": {
    "collapsed": true
   },
   "outputs": [],
   "source": [
    "%matplotlib tk"
   ]
  },
  {
   "cell_type": "markdown",
   "metadata": {},
   "source": [
    "# TIME SERIES ANALYSIS"
   ]
  },
  {
   "cell_type": "markdown",
   "metadata": {},
   "source": [
    "# Data loading"
   ]
  },
  {
   "cell_type": "code",
   "execution_count": null,
   "metadata": {
    "collapsed": false,
    "scrolled": false
   },
   "outputs": [],
   "source": [
    "import Load_forecasting as lf\n",
    "import seaborn as sns\n",
    "import matplotlib.pyplot as plt\n",
    "sns.set()\n",
    "\n",
    "stations_to_drop = \\\n",
    "[(-51.317, -59.6),(53.5, -19.5),(47.5, -8.5), (54.017,1.1), (53.7,1.133), \n",
    "(59.733,1.667),(58.033,1.400), (57.283,1.650),(61.2, 1.1),(60.6 ,1.0),\n",
    "(59.5, 1.5),(58.3, 0.4),(57.883, 0.033),(57.6, 1.7),(57.2, 1.2),\n",
    "(57.2, 0.5),(54.0, 0.7),(53.833, 2.917),(53.5, 2.2),(53.4, 1.7),\n",
    "(53.0, 2.1),(53.0, 1.7),(49.9, -2.9), (60.15, -2.067), (60.117, -2.067)]\n",
    "\n",
    "\n",
    "df = lf.Load_Forecaster()\n",
    "#df.attach_load(filename=\"/media/jonathan/DATA/HW/Project/DATA/NG_DATA/DATA/\", location=\"UK\")\n",
    "df.attach_load(filename=\"/media/jonathan/DATA/HW/Project/DATA/NY_Data/DATA/zones/MHK VL.csv\", location=\"NEW_YORK\")\n",
    "#df.attach_load(filename=\"/media/jonathan/DATA/HW/Project/DATA/NY_Data/DATA/zones/N.Y.C..csv\", location=\"NEW_YORK\")\n",
    "\n",
    "df.attach_weather(filepath_stations=\"METAR_DATA/isd_stations_uk.txt\",\n",
    "                  filespath_data=[\"METAR_DATA/isd_2005-2010_uk.txt\", \"METAR_DATA/isd_2011-2018_uk.txt\"],\n",
    "                  variables=['W_Spd', 'Air_Temp', 'RHx ', 'Dew_temp'],\n",
    "                  drop_stations=stations_to_drop)\n",
    "\n",
    "\"\"\"df.attach_weather(filepath_stations=\"METAR_DATA/isd_stations_ny.txt\",\n",
    "                  filespath_data=['METAR_DATA/isd_2001-2018_ny.txt'],\n",
    "                  variables=['W_Spd', 'Air_Temp', 'RHx ', 'Dew_temp'],\n",
    "                  drop_stations=[])\"\"\"\n",
    "\n",
    "df.process_data()\n",
    "load = df.preprocessors['Load'].get_data()"
   ]
  },
  {
   "cell_type": "markdown",
   "metadata": {},
   "source": [
    "# Weather variable plotting function  "
   ]
  },
  {
   "cell_type": "code",
   "execution_count": null,
   "metadata": {
    "collapsed": false
   },
   "outputs": [],
   "source": [
    "import pandas as pd\n",
    "def plot_weather_var(data, label):\n",
    "    data = pd.DataFrame(data.mean(axis=1))\n",
    "    data.index = pd.to_datetime(data.index)\n",
    "    month_names = ['January', 'February', 'March', 'April', 'May', 'June', 'July', 'August', 'September', 'October', 'November', 'December']\n",
    "    ax = data.boxplot(by=data.index.month, column=0, fontsize=13, rot=90)\n",
    "    ax.set_ylabel(label, fontsize=13)\n",
    "    ax.set_xlabel(\"Month\", fontsize=13)\n",
    "    ax.set_title(\"Average \" + label + \" by month\", fontsize=13)\n",
    "    plt.suptitle(\"\")\n",
    "    locs, _ = plt.xticks()\n",
    "    plt.xticks(locs, month_names)\n",
    "    plt.tight_layout()"
   ]
  },
  {
   "cell_type": "markdown",
   "metadata": {},
   "source": [
    "# Air temp mean plot"
   ]
  },
  {
   "cell_type": "code",
   "execution_count": null,
   "metadata": {
    "collapsed": false
   },
   "outputs": [],
   "source": [
    "air_temp = df.preprocessors[\"Weather\"].pivot_data['Air_Temp']\n",
    "plot_weather_var(air_temp, 'Air temperature (°C)')"
   ]
  },
  {
   "cell_type": "markdown",
   "metadata": {},
   "source": [
    "# Wind speed temp mean plot"
   ]
  },
  {
   "cell_type": "code",
   "execution_count": null,
   "metadata": {
    "collapsed": true
   },
   "outputs": [],
   "source": [
    "wind_speed = df.preprocessors[\"Weather\"].pivot_data['W_Spd']\n",
    "plot_weather_var(wind_speed, 'Wind speed (km/h)')"
   ]
  },
  {
   "cell_type": "markdown",
   "metadata": {},
   "source": [
    "# Humidity"
   ]
  },
  {
   "cell_type": "code",
   "execution_count": null,
   "metadata": {
    "collapsed": true
   },
   "outputs": [],
   "source": [
    "humidity = df.preprocessors[\"Weather\"].pivot_data['RHx ']\n",
    "plot_weather_var(humidity, 'Humidity')"
   ]
  },
  {
   "cell_type": "markdown",
   "metadata": {},
   "source": [
    "# Simple load / demand plot"
   ]
  },
  {
   "cell_type": "code",
   "execution_count": null,
   "metadata": {
    "collapsed": false
   },
   "outputs": [],
   "source": [
    "load['TS'].plot()"
   ]
  },
  {
   "cell_type": "markdown",
   "metadata": {},
   "source": [
    "# Load / demand boxplot per month"
   ]
  },
  {
   "cell_type": "code",
   "execution_count": null,
   "metadata": {
    "collapsed": false
   },
   "outputs": [],
   "source": [
    "%matplotlib tk\n",
    "from matplotlib.patches import Patch\n",
    "month_names = ['January', 'February', 'March', 'April', 'May', 'June', 'July', 'August', 'September', 'October', 'November', 'December']\n",
    "ax = data.boxplot(by='Month', column='TS', showfliers=False, rot=90, patch_artist=True, fontsize=15)\n",
    "\n",
    "# Box coloring\n",
    "for m in range(len(month_names)):\n",
    "    if m in [5,6,7,8]:\n",
    "        ax.findobj(Patch)[m].set_facecolor(\"gray\")\n",
    "    else:\n",
    "        ax.findobj(Patch)[m].set_facecolor(\"white\")\n",
    "        \n",
    "ax.set_ylabel(\"Load (MW)\", fontsize=15)\n",
    "ax.set_xlabel(\"Month\", fontsize=15)\n",
    "ax.set_title(\"Load per month\", fontsize=15)\n",
    "plt.suptitle(\"\")\n",
    "locs, labels = plt.xticks()\n",
    "plt.tight_layout()\n",
    "plt.xticks(locs, month_names)"
   ]
  },
  {
   "cell_type": "markdown",
   "metadata": {},
   "source": [
    "# Change rate boxplot per hour"
   ]
  },
  {
   "cell_type": "code",
   "execution_count": null,
   "metadata": {
    "collapsed": true
   },
   "outputs": [],
   "source": [
    "load['Change Percentage'] = load['TS'].pct_change() * 100\n",
    "load['Time of day'] = load.index.time\n",
    "load['Month'] = load.index.month"
   ]
  },
  {
   "cell_type": "code",
   "execution_count": null,
   "metadata": {
    "collapsed": false
   },
   "outputs": [],
   "source": [
    "ax = load.boxplot(by='Time of day', column='Change Percentage', showfliers=False, rot=90)\n",
    "ax.set_ylabel(\"Change percentage\")\n",
    "ax.set_title(\"Change percentage throughout the day\")\n",
    "plt.suptitle(\"\")"
   ]
  },
  {
   "cell_type": "markdown",
   "metadata": {},
   "source": [
    "# Change rate boxplot per season"
   ]
  },
  {
   "cell_type": "code",
   "execution_count": null,
   "metadata": {
    "collapsed": true
   },
   "outputs": [],
   "source": [
    "load['Season'] = (load.index.month%12 + 3)//3\n",
    "seasons = {1:'Winter', 2:'Spring', 3:'Summer', 4:'Fall'}\n",
    "load['Season'] = data['Season'].apply(lambda x: seasons[x])\n",
    "ax = load.boxplot(by='Season', column='Change Percentage', showfliers=False, rot=90)\n",
    "ax.set_ylabel(\"Change Percentage\")\n",
    "ax.set_title(\"Change percentage by season\")\n",
    "plt.suptitle(\"\")"
   ]
  },
  {
   "cell_type": "markdown",
   "metadata": {},
   "source": [
    "# Change rate boxplot per month"
   ]
  },
  {
   "cell_type": "code",
   "execution_count": null,
   "metadata": {
    "collapsed": true
   },
   "outputs": [],
   "source": [
    "from matplotlib.patches import Patch\n",
    "month_names = ['January', 'February', 'March', 'April', 'May', 'June', 'July', 'August', 'September', 'October', 'November', 'December']\n",
    "ax = load.boxplot(by='Month', column='Change Percentage', showfliers=False, rot=90, patch_artist=True)\n",
    "\n",
    "# Box coloring\n",
    "for m in range(len(month_names)):\n",
    "    if m in [0,1,2,9,10,11,12]:\n",
    "        ax.findobj(Patch)[m].set_facecolor(\"gray\")\n",
    "    else:\n",
    "        ax.findobj(Patch)[m].set_facecolor(\"white\")\n",
    "        \n",
    "ax.set_ylabel(\"Change Percentage\")\n",
    "ax.set_title(\"Change Percentage by month\")\n",
    "plt.suptitle(\"\")\n",
    "locs, labels = plt.xticks()\n",
    "plt.xticks(locs, month_names)"
   ]
  },
  {
   "cell_type": "markdown",
   "metadata": {},
   "source": [
    "# Change rate histogram"
   ]
  },
  {
   "cell_type": "code",
   "execution_count": null,
   "metadata": {
    "collapsed": false
   },
   "outputs": [],
   "source": [
    "ax = load[['Change Percentage']].plot.hist(density=True, bins=25)\n",
    "#data[['Change Percentage']].plot.hist(density=True, bins=25, ylim=(0,0.001))\n",
    "ax.set_title(\"Frequency of change percentage\")\n",
    "ax.set_xlabel(\"Change Percentage\")\n",
    "plt.suptitle(\"\")"
   ]
  },
  {
   "cell_type": "markdown",
   "metadata": {},
   "source": [
    "---"
   ]
  },
  {
   "cell_type": "markdown",
   "metadata": {},
   "source": [
    "# BENCHMARKS "
   ]
  },
  {
   "cell_type": "code",
   "execution_count": null,
   "metadata": {
    "collapsed": true
   },
   "outputs": [],
   "source": [
    "benchmark_dataset = 'data_UK_weather'"
   ]
  },
  {
   "cell_type": "markdown",
   "metadata": {},
   "source": [
    "---"
   ]
  },
  {
   "cell_type": "markdown",
   "metadata": {},
   "source": [
    "# Benchmark : RNN Structure [OK] DONE"
   ]
  },
  {
   "cell_type": "code",
   "execution_count": null,
   "metadata": {
    "collapsed": true
   },
   "outputs": [],
   "source": [
    "# Dataset : 'data_UK_weather'\n",
    "# Model : <benchmark>\n",
    "# Modified settings : None"
   ]
  },
  {
   "cell_type": "code",
   "execution_count": null,
   "metadata": {
    "collapsed": true
   },
   "outputs": [],
   "source": [
    "%matplotlib tk"
   ]
  },
  {
   "cell_type": "code",
   "execution_count": null,
   "metadata": {
    "collapsed": false
   },
   "outputs": [],
   "source": [
    "import Benchmarker\n",
    "#Benchmarker.benchmark_RNN_structure(benchmark_dataset, '1-4', '1X-3X', 1, ['LSTM', 'GRU'], run_count=1)\n",
    "Benchmarker.plot_structure_bench_RNN_Dense(db=\"results_cluster.db\", RNN=True)"
   ]
  },
  {
   "cell_type": "markdown",
   "metadata": {},
   "source": [
    "---"
   ]
  },
  {
   "cell_type": "markdown",
   "metadata": {},
   "source": [
    "# Benchmark : Dense structure [OK] DONE"
   ]
  },
  {
   "cell_type": "code",
   "execution_count": null,
   "metadata": {
    "collapsed": false
   },
   "outputs": [],
   "source": [
    "%matplotlib tk\n",
    "import Benchmarker\n",
    "#Benchmarker.benchmark_Dense_structure(benchmark_dataset, '1-1', '1X-3X', 1, run_count=1)\n",
    "Benchmarker.plot_structure_bench_RNN_Dense(db=\"results_cluster.db\", Dense=True)"
   ]
  },
  {
   "cell_type": "markdown",
   "metadata": {},
   "source": [
    "---"
   ]
  },
  {
   "cell_type": "markdown",
   "metadata": {},
   "source": [
    "# Benchmark : CNN structure [OK] DONE"
   ]
  },
  {
   "cell_type": "code",
   "execution_count": null,
   "metadata": {
    "collapsed": false,
    "scrolled": false
   },
   "outputs": [],
   "source": [
    "%matplotlib tk\n",
    "import Benchmarker\n",
    "#Benchmarker.benchmark_CNN_structure(benchmark_dataset, '1-6', '1024-1024', 1, kernel_size=3, last_layer_type='Conv1D', run_count=2)\n",
    "Benchmarker.plot_structure_bench_CNN(database=\"results_cluster.db\")"
   ]
  },
  {
   "cell_type": "markdown",
   "metadata": {},
   "source": [
    "---"
   ]
  },
  {
   "cell_type": "markdown",
   "metadata": {},
   "source": [
    "# Benchmark : Weather vs no weather [OK] DONE"
   ]
  },
  {
   "cell_type": "code",
   "execution_count": null,
   "metadata": {
    "collapsed": false
   },
   "outputs": [],
   "source": [
    "import Benchmarker\n",
    "datasets = ['data_UK_base', 'data_UK_weather', 'data_NYC_base', 'data_NYC_weather', 'data_MHK_base', 'data_MHK_weather']\n",
    "#Benchmarker.benchmark_datasets(datasets, run_count=3, flag=\"weather_variables\", verbose=0)\n",
    "Benchmarker.plot_benchmark(\"weather_variables\", mode='barplot')"
   ]
  },
  {
   "cell_type": "markdown",
   "metadata": {},
   "source": [
    "---"
   ]
  },
  {
   "cell_type": "markdown",
   "metadata": {},
   "source": [
    "# Benchmark : Load propagation [OK] DONE"
   ]
  },
  {
   "cell_type": "code",
   "execution_count": null,
   "metadata": {
    "collapsed": false
   },
   "outputs": [],
   "source": [
    "%matplotlib tk\n",
    "import Benchmarker\n",
    "datasets = ['data_UK_base', 'data_UK_no_weather_more_historical', 'data_UK_no_weather_no_historical']\n",
    "#Benchmarker.benchmark_datasets(datasets, run_count=3, flag=\"historical_ts\", verbose=0)\n",
    "Benchmarker.plot_benchmark(\"historical_ts\", mode='barplot', xlabel=\"Load propagation\", split_labels_line=True, rot=0, secondary_y=\"ran_epochs\", secondary_y_label=\"Epochs\")"
   ]
  },
  {
   "cell_type": "markdown",
   "metadata": {},
   "source": [
    "---"
   ]
  },
  {
   "cell_type": "markdown",
   "metadata": {
    "collapsed": true
   },
   "source": [
    "# Benchmark : Optimizers [OK] DONE"
   ]
  },
  {
   "cell_type": "code",
   "execution_count": null,
   "metadata": {
    "collapsed": true
   },
   "outputs": [],
   "source": [
    "import Benchmarker\n",
    "Benchmarker.benchmark_variable(benchmark_dataset, var_name='optimizer', decompose=False, \n",
    "    var_list=[\n",
    "                #{'optimizer_name':'SGD', 'decay':0, 'momentum':0.0, 'nesterov':False},\n",
    "                #{'optimizer_name':'SGD', 'decay':1e-6, 'momentum':0.0, 'nesterov':False},\n",
    "                #{'optimizer_name':'SGD', 'decay':1e-6, 'momentum':0.9, 'nesterov':False},\n",
    "                #{'optimizer_name':'SGD', 'decay':1e-6, 'momentum':0.9, 'nesterov':True},\n",
    "                {'optimizer_name':'Adam'}, \n",
    "                #{'optimizer_name':'Adadelta'}, \n",
    "                {'optimizer_name':'RMSprop'},\n",
    "                #{'optimizer_name':'Adagrad'},\n",
    "                {'optimizer_name':'Nadam'},\n",
    "                #{'optimizer_name':'Adamax'}\n",
    "               ], override_method='_override_optimizer', run_count=3, verbose=0, model='CNN')\n",
    "Benchmarker.plot_benchmark('optimizer', 'detailed_table', rot=30, secondary_y='ran_epochs', secondary_y_label='epochs')"
   ]
  },
  {
   "cell_type": "markdown",
   "metadata": {},
   "source": [
    "---"
   ]
  },
  {
   "cell_type": "markdown",
   "metadata": {},
   "source": [
    "# Benchmark : Learning rate   [OK] DONE"
   ]
  },
  {
   "cell_type": "code",
   "execution_count": null,
   "metadata": {
    "collapsed": false
   },
   "outputs": [],
   "source": [
    "import Benchmarker\n",
    "#Benchmarker.benchmark_variable(benchmark_dataset, var_name=\"lr\", var_range=[0.0001, 0.02, 10], override_method='_override_optimizer', run_count=3, verbose=1)\n",
    "#Benchmarker.benchmark_variable(benchmark_dataset, var_name=\"lr\", var_range=[0.035, 0.1, 3], override_method='_override_optimizer', run_count=3, verbose=1)\n",
    "#Benchmarker.benchmark_variable(\"data_UK_weather_categorical_time\", var_name=\"lr\", var_list=[0.0005, 0.002, 0.005], override_method='_override_optimizer', run_count=3, verbose=1)\n",
    "Benchmarker.plot_benchmark('lr', 'table', secondary_y='ran_epochs', secondary_y_label='Epochs')"
   ]
  },
  {
   "cell_type": "markdown",
   "metadata": {},
   "source": [
    "# Benchmark : Time encoding [OK] DONE"
   ]
  },
  {
   "cell_type": "code",
   "execution_count": null,
   "metadata": {
    "collapsed": false,
    "scrolled": true
   },
   "outputs": [],
   "source": [
    "%matplotlib tk\n",
    "import Benchmarker\n",
    "datasets = ['data_UK_weather_categorical_time', 'data_UK_weather']\n",
    "#Benchmarker.benchmark_datasets(datasets, flag=\"time_encoding\", run_count=3, verbose=0)\n",
    "Benchmarker.plot_benchmark('time_encoding', 'barplot')"
   ]
  },
  {
   "cell_type": "markdown",
   "metadata": {},
   "source": [
    "---"
   ]
  },
  {
   "cell_type": "markdown",
   "metadata": {},
   "source": [
    "# Benchmark : Early stopping [OK] DONE"
   ]
  },
  {
   "cell_type": "code",
   "execution_count": null,
   "metadata": {
    "collapsed": false
   },
   "outputs": [],
   "source": [
    "%matplotlib tk\n",
    "import Benchmarker\n",
    "#Benchmarker.benchmark_variable(benchmark_dataset, var_name='early_stopping', var_list=[True,False], override_method='_override_training_settings', run_count=3, verbose=0)\n",
    "Benchmarker.plot_benchmark('early_stopping', mode='barplot')"
   ]
  },
  {
   "cell_type": "markdown",
   "metadata": {},
   "source": [
    "---"
   ]
  },
  {
   "cell_type": "markdown",
   "metadata": {},
   "source": [
    "# Benchmark : Reduce learning rate on plateau [OK]"
   ]
  },
  {
   "cell_type": "code",
   "execution_count": null,
   "metadata": {
    "collapsed": false,
    "scrolled": false
   },
   "outputs": [],
   "source": [
    "%matplotlib tk\n",
    "import Benchmarker\n",
    "#Benchmarker.benchmark_variable(benchmark_dataset, var_name='reduce_lr_plateau', var_list=[True,False], override_method='_override_training_settings', run_count=3, verbose=0)\n",
    "Benchmarker.plot_benchmark('reduce_lr_plateau', 'table')"
   ]
  },
  {
   "cell_type": "markdown",
   "metadata": {},
   "source": [
    "---"
   ]
  },
  {
   "cell_type": "markdown",
   "metadata": {},
   "source": [
    "# Benchmark : Training years  [OK]"
   ]
  },
  {
   "cell_type": "markdown",
   "metadata": {},
   "source": [
    "<font size=4>Note : Not a very relevant test.</font>\n",
    "<br>\n",
    "<font size=3>A better one would be to forecast a given year, given the last N years as training data.</font>"
   ]
  },
  {
   "cell_type": "code",
   "execution_count": null,
   "metadata": {
    "collapsed": false
   },
   "outputs": [],
   "source": [
    "import Benchmarker\n",
    "train_test_list = [(train, 2) for train in range(1,8+1)]\n",
    "#Benchmarker.benchmark_variable(benchmark_dataset, var_name='train_test', var_list=train_test_list, override_method='_override_model_data_settings', run_count=3, verbose=0)\n",
    "Benchmarker.plot_benchmark('train_test', mode='table')"
   ]
  },
  {
   "cell_type": "markdown",
   "metadata": {},
   "source": [
    "---"
   ]
  },
  {
   "cell_type": "markdown",
   "metadata": {},
   "source": [
    "# Benchmark : Standardizers [OK] DONE"
   ]
  },
  {
   "cell_type": "markdown",
   "metadata": {},
   "source": [
    "### Note : A variant of the QuantileTransformer is not tested as it requires an argument, which is not supported for now."
   ]
  },
  {
   "cell_type": "code",
   "execution_count": null,
   "metadata": {
    "collapsed": true
   },
   "outputs": [],
   "source": [
    "%matplotlib tk\n",
    "import Benchmarker\n",
    "Benchmarker.benchmark_variable(benchmark_dataset, var_name='stdz', var_list=['QuantileTransformer', 'Normalizer', 'MaxAbsScaler', 'RobustScaler', 'MinMaxScaler', 'StandardScaler'], override_method='_override_standardizer', run_count=3, verbose=0)\n",
    "Benchmarker.plot_benchmark('stdz', mode='boxplot', rot=30, secondary_y=\"\")"
   ]
  },
  {
   "cell_type": "markdown",
   "metadata": {},
   "source": [
    "---"
   ]
  },
  {
   "cell_type": "markdown",
   "metadata": {},
   "source": [
    "# Benchmark : Epoch count [OK] DONE"
   ]
  },
  {
   "cell_type": "code",
   "execution_count": null,
   "metadata": {
    "collapsed": false
   },
   "outputs": [],
   "source": [
    "import Benchmarker\n",
    "early_override={'method':'_override_training_settings', 'variable':'early_stopping', 'value':False}\n",
    "#Benchmarker.benchmark_variable(benchmark_dataset, var_name=\"epochs\", var_range=[20, 300, 5], override_method='_override_training_settings', run_count=3, verbose=0, early_override=early_override)\n",
    "Benchmarker.plot_benchmark('epochs', mode='lineplot')"
   ]
  },
  {
   "cell_type": "markdown",
   "metadata": {},
   "source": [
    "---"
   ]
  },
  {
   "cell_type": "markdown",
   "metadata": {},
   "source": [
    "# Benchmark : Load time series corrections [OK]"
   ]
  },
  {
   "cell_type": "code",
   "execution_count": null,
   "metadata": {
    "collapsed": true
   },
   "outputs": [],
   "source": [
    "import Benchmarker\n",
    "datasets = ['data_UK_weather', 'data_UK_weather_basic_load_corrections']\n",
    "#Benchmarker.benchmark_datasets(datasets, run_count=3, flag=\"fixes\", verbose=0)\n",
    "Benchmarker.plot_benchmark(\"fixes\", mode='barplot')"
   ]
  },
  {
   "cell_type": "markdown",
   "metadata": {},
   "source": [
    "---"
   ]
  },
  {
   "cell_type": "markdown",
   "metadata": {},
   "source": [
    "# Benchmark : More / less (desired) weather stations [OK] DONE"
   ]
  },
  {
   "cell_type": "code",
   "execution_count": null,
   "metadata": {
    "collapsed": false
   },
   "outputs": [],
   "source": [
    "import Benchmarker\n",
    "datasets = ['data_UK_weather_less_stations'] #['data_UK_weather', 'data_UK_weather_less_stations']\n",
    "#Benchmarker.benchmark_datasets(datasets, run_count=6, flag=\"weather_variables\", verbose=0)\n",
    "Benchmarker.plot_benchmark('weather_variables', mode='boxplot', secondary_y=\"\")"
   ]
  },
  {
   "cell_type": "markdown",
   "metadata": {},
   "source": [
    "---"
   ]
  },
  {
   "cell_type": "markdown",
   "metadata": {},
   "source": [
    "# Benchmark : Weather variables [OK] DONE"
   ]
  },
  {
   "cell_type": "code",
   "execution_count": null,
   "metadata": {
    "collapsed": false
   },
   "outputs": [],
   "source": [
    "%matplotlib tk\n",
    "import Benchmarker\n",
    "datasets = ['data_UK_weather', 'data_UK_weather_air_only', 'data_UK_weather_wind_only', 'data_UK_weather_humidity_only']\n",
    "#Benchmarker.benchmark_datasets(datasets, run_count=3, flag=\"weather_variables\", verbose=0)\n",
    "Benchmarker.plot_benchmark('weather_variables', mode='table', rot=0, secondary_y=\"\")"
   ]
  },
  {
   "cell_type": "markdown",
   "metadata": {},
   "source": [
    "---"
   ]
  },
  {
   "cell_type": "markdown",
   "metadata": {
    "collapsed": true
   },
   "source": [
    "# Benchmark : Batch size [OK] DONE"
   ]
  },
  {
   "cell_type": "code",
   "execution_count": null,
   "metadata": {
    "collapsed": false
   },
   "outputs": [],
   "source": [
    "\n",
    "\\subsubsection{Model complexity comparison}\n",
    "\n",
    "Gpu usage\n",
    "training time\n",
    "trainable params\n",
    "...\n",
    "%matplotlib tk\n",
    "import Benchmarker\n",
    "#Benchmarker.benchmark_variable(benchmark_dataset, var_name=\"batch_size\", var_list=[8, 32, 64, 128, 256, 512], override_method='_override_training_settings', run_count=3, verbose=0)\n",
    "Benchmarker.plot_benchmark('batch_size', mode='lineplot', rot=0)"
   ]
  },
  {
   "cell_type": "markdown",
   "metadata": {},
   "source": [
    "---"
   ]
  },
  {
   "cell_type": "markdown",
   "metadata": {},
   "source": [
    "# Benchmark : CPU vs GPU [OK]"
   ]
  },
  {
   "cell_type": "code",
   "execution_count": null,
   "metadata": {
    "collapsed": false
   },
   "outputs": [],
   "source": [
    "%matplotlib tk\n",
    "import Benchmarker\n",
    "#Benchmarker.benchmark_variable(benchmark_dataset, var_name=\"use_gpu\", var_list=[True,False], override_method='_override_training_settings', run_count=2, verbose=0)\n",
    "Benchmarker.plot_benchmark('use_gpu', mode='barplot', rot=0, merge_models=True, xlabel=\"GPU vs CPU training\")"
   ]
  },
  {
   "cell_type": "markdown",
   "metadata": {},
   "source": [
    "---"
   ]
  },
  {
   "cell_type": "markdown",
   "metadata": {},
   "source": [
    "# Benchmark custom models"
   ]
  },
  {
   "cell_type": "markdown",
   "metadata": {
    "collapsed": true
   },
   "source": [
    "---"
   ]
  },
  {
   "cell_type": "markdown",
   "metadata": {},
   "source": [
    "# Plot selected models"
   ]
  },
  {
   "cell_type": "markdown",
   "metadata": {},
   "source": [
    "# Benchmark : Backend [NOK]  \n",
    "#### Run manually and switch backend by starting python like so : \"KERAS_BACKEND=backend python3\"\n",
    "##### The var_list parameter in the \"benchmark_variable\" call has no effect (backed detected automatically), but make sure its lenght is 1.\n",
    "##### The floating point precision is set to 32 as CNTK complains about it being 64 (saying it is slower, which is very true) - and 32 being the recommended setting anyway."
   ]
  },
  {
   "cell_type": "code",
   "execution_count": null,
   "metadata": {
    "collapsed": false
   },
   "outputs": [],
   "source": [
    "%matplotlib tk\n",
    "import Benchmarker\n",
    "early_override={'method':'_override_model_data_settings', 'variable':'float_precision', 'value':32}\n",
    "#Benchmarker.benchmark_variable(benchmark_dataset, var_name=\"backend\", var_list=['cntk','tensorflow'], override_method='_override_training_settings', run_count=1, verbose=0, model='GRU')\n",
    "\n",
    "import Load_forecasting\n",
    "import matplotlib.pyplot as plt\n",
    "df = Load_forecasting.Load_Forecaster()\n",
    "res = df.load_results(\"backend_benchmark\")[['testing_MAPE', 'training_MAPE', 'training_time', 'model_type','backend']]\n",
    "res.loc[res['model_type'] == 'CuDNNLSTM', 'model_type'] = 'LSTM'  # CNTK cannot use CuDNNLSTM\n",
    "res.loc[res['model_type'] == 'CuDNNGRU', 'model_type'] = 'GRU'\n",
    "fig, axes = plt.subplots(1, 3, sharex=True, sharey=True)\n",
    "\n",
    "for n, (model, grp) in enumerate(res.groupby('model_type')):\n",
    "    grp.groupby(\"backend\").mean().plot.bar(fontsize=13, rot=0, ax=axes[n], secondary_y=\"training_time\")\n",
    "    axes[n].set_title(\"Results for location UK\\nModel : {0}\".format(model), fontsize=13)\n",
    "    axes[n].set_xlabel(\"Backend\", fontsize=13)\n",
    "    axes[n].set_ylabel(\"MAPE\", fontsize=13)\n",
    "    axes[n].right_ax.set_ylabel('Seconds', fontsize=13)\n",
    "    "
   ]
  },
  {
   "cell_type": "markdown",
   "metadata": {},
   "source": [
    "---"
   ]
  },
  {
   "cell_type": "markdown",
   "metadata": {},
   "source": [
    "# Benchmark : Floating point precision [OK] DONE"
   ]
  },
  {
   "cell_type": "code",
   "execution_count": null,
   "metadata": {
    "collapsed": false,
    "scrolled": true
   },
   "outputs": [],
   "source": [
    "%matplotlib tk\n",
    "import Benchmarker\n",
    "Benchmarker.benchmark_variable(benchmark_dataset, var_name=\"float_precision\", var_list=[32,64], override_method='_override_model_data_settings', run_count=3, verbose=0)\n",
    "Benchmarker.plot_benchmark('float_precision', mode='table', rot=0)"
   ]
  },
  {
   "cell_type": "markdown",
   "metadata": {},
   "source": [
    "# Benchmark models"
   ]
  },
  {
   "cell_type": "code",
   "execution_count": null,
   "metadata": {
    "collapsed": true
   },
   "outputs": [],
   "source": [
    "%matplotlib tk\n",
    "import Load_forecasting as lf\n",
    "from keras.layers import CuDNNLSTM, Dropout, Dense, CuDNNGRU, Convolution1D\n",
    "from keras.models import Sequential\n",
    "df = lf.Load_Forecaster()\n",
    "df.load_data(\"data_MHK_weather_categorical_time\")\n",
    "X_train_shape = df.get_train_data_shape(RNN=True)\n",
    "\n",
    "#### LSTM ####\n",
    "\n",
    "# DONE (UK, NYC, MHK)\n",
    "lstm1 = Sequential([\n",
    "            CuDNNLSTM(X_train_shape[2]*2, input_shape=X_train_shape[1:3], return_sequences=True),\n",
    "            CuDNNLSTM(X_train_shape[2]*2, return_sequences=True),\n",
    "            CuDNNLSTM(X_train_shape[2]*2, return_sequences=True),\n",
    "            CuDNNLSTM(X_train_shape[2]*2, return_sequences=True),\n",
    "            Dense(1, activation='linear')])\n",
    "\n",
    "# DONE (UK, NYC, MHK)\n",
    "lstm2 = Sequential([\n",
    "            CuDNNLSTM(X_train_shape[2]*4, input_shape=X_train_shape[1:3], return_sequences=True),\n",
    "            CuDNNLSTM(X_train_shape[2]*4, return_sequences=True),\n",
    "            CuDNNLSTM(X_train_shape[2]*4, return_sequences=True),\n",
    "            Dense(1, activation='linear')])\n",
    "\n",
    "\n",
    "#### GRU ####\n",
    "\n",
    "# DONE (UK, NYC, MHK)\n",
    "gru1 = Sequential([\n",
    "            CuDNNGRU(X_train_shape[2]*2, input_shape=X_train_shape[1:3], return_sequences=True),\n",
    "            CuDNNGRU(X_train_shape[2]*2, return_sequences=True),\n",
    "            CuDNNGRU(X_train_shape[2]*2, return_sequences=True),\n",
    "            Dense(1, activation='linear')])\n",
    "\n",
    "# DONE (UK, NYC, MHK)\n",
    "gru2 = Sequential([\n",
    "            CuDNNGRU(X_train_shape[2]*4, input_shape=X_train_shape[1:3], return_sequences=True),\n",
    "            CuDNNGRU(X_train_shape[2]*4, return_sequences=True),\n",
    "            CuDNNGRU(X_train_shape[2]*4, return_sequences=True),\n",
    "            Dense(1, activation='linear')])\n",
    "\n",
    "\n",
    "#### CNN ####\n",
    "# DONE (UK, NYC, MHK)\n",
    "cnn1 = Sequential([Convolution1D(1024, 3, activation='relu', padding=\"same\", input_shape=X_train_shape[1:3]),\n",
    "                   Convolution1D(1024, 3, activation='relu', padding=\"same\"),\n",
    "                   Convolution1D(1,    3, activation='linear', padding=\"same\")])\n",
    "\n",
    "# DONE (UK, NY, MHK)\n",
    "cnn2 = Sequential([Convolution1D(1024, 3, activation='relu', padding=\"same\", input_shape=X_train_shape[1:3]),\n",
    "                   Convolution1D(1024, 3, activation='relu', padding=\"same\"),\n",
    "                   Convolution1D(1024, 3, activation='relu', padding=\"same\"),\n",
    "                   Convolution1D(1024, 3, activation='relu', padding=\"same\"),\n",
    "                   Convolution1D(1,    3, activation='linear', padding=\"same\")])\n",
    "\n",
    "\n",
    "\n",
    "df._override_training_settings(batch_size=64,  \n",
    "                              reduce_lr_plateau=False, \n",
    "                              early_stopping=True,\n",
    "                              epochs=200,\n",
    "                              use_gpu=True,\n",
    "                              backend='tensorflow', # No effect\n",
    "                              lossplot=False)\n",
    "\n",
    "df._override_optimizer(lr=0.002, optimizer_name='Adam')\n",
    "df._override_model_data_settings(float_precision=64)\n",
    "df.db['flag'] = 'models_benchmark'\n",
    "\n",
    "######\n",
    "#df.db['flag'] = 'multimodels_plot2_benchmark'\n",
    "#df.db['save_detailed_results'] = True\n",
    "#####\n",
    "\n",
    "models = [lstm1, lstm2, gru1, gru2, cnn1, cnn2]\n",
    "\n",
    "for model in models:\n",
    "    for _ in range(3):\n",
    "        df.train_model(model, RNN=True)\n",
    "        df.predict_load(graph=False, store=True)#, plot_groupby='month')"
   ]
  },
  {
   "cell_type": "markdown",
   "metadata": {
    "collapsed": true
   },
   "source": [
    "# Plot Benchmark models"
   ]
  },
  {
   "cell_type": "code",
   "execution_count": null,
   "metadata": {
    "collapsed": true
   },
   "outputs": [],
   "source": [
    "import Benchmarker\n",
    "Benchmarker.plot_models_benchs2('UK')"
   ]
  },
  {
   "cell_type": "markdown",
   "metadata": {},
   "source": [
    "---"
   ]
  }
 ],
 "metadata": {
  "kernelspec": {
   "display_name": "Python 3",
   "language": "python",
   "name": "python3"
  },
  "language_info": {
   "codemirror_mode": {
    "name": "ipython",
    "version": 3
   },
   "file_extension": ".py",
   "mimetype": "text/x-python",
   "name": "python",
   "nbconvert_exporter": "python",
   "pygments_lexer": "ipython3",
   "version": "3.6.3"
  }
 },
 "nbformat": 4,
 "nbformat_minor": 2
}
